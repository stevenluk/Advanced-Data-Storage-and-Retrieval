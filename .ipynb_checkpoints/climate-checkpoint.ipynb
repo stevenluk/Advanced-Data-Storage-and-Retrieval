{
 "cells": [
  {
   "cell_type": "code",
   "execution_count": 1,
   "metadata": {},
   "outputs": [],
   "source": [
    "%matplotlib inline\n",
    "from matplotlib import style\n",
    "style.use('fivethirtyeight')\n",
    "import matplotlib.pyplot as plt"
   ]
  },
  {
   "cell_type": "code",
   "execution_count": 2,
   "metadata": {},
   "outputs": [],
   "source": [
    "import numpy as np\n",
    "import pandas as pd"
   ]
  },
  {
   "cell_type": "code",
   "execution_count": 28,
   "metadata": {},
   "outputs": [],
   "source": [
    "import datetime as dt\n",
    "from scipy import stats"
   ]
  },
  {
   "cell_type": "markdown",
   "metadata": {},
   "source": [
    "# Reflect Tables into SQLAlchemy ORM"
   ]
  },
  {
   "cell_type": "code",
   "execution_count": 4,
   "metadata": {},
   "outputs": [],
   "source": [
    "# Python SQL toolkit and Object Relational Mapper\n",
    "import sqlalchemy\n",
    "from sqlalchemy.ext.automap import automap_base\n",
    "from sqlalchemy.orm import Session\n",
    "from sqlalchemy import create_engine, func"
   ]
  },
  {
   "cell_type": "code",
   "execution_count": 5,
   "metadata": {},
   "outputs": [],
   "source": [
    "engine = create_engine(\"sqlite:///hawaii.sqlite\")"
   ]
  },
  {
   "cell_type": "code",
   "execution_count": 6,
   "metadata": {},
   "outputs": [],
   "source": [
    "# reflect an existing database into a new model\n",
    "Base = automap_base()\n",
    "\n",
    "# reflect the tables\n",
    "Base.prepare(engine, reflect=True)"
   ]
  },
  {
   "cell_type": "code",
   "execution_count": 46,
   "metadata": {},
   "outputs": [
    {
     "data": {
      "text/plain": [
       "['measurement', 'station']"
      ]
     },
     "execution_count": 46,
     "metadata": {},
     "output_type": "execute_result"
    }
   ],
   "source": [
    "# We can view all of the classes that automap found\n",
    "Base.classes.keys()"
   ]
  },
  {
   "cell_type": "code",
   "execution_count": 8,
   "metadata": {},
   "outputs": [],
   "source": [
    "# Save references to each table\n",
    "measurement= Base.classes.measurement\n",
    "station=Base.classes.station"
   ]
  },
  {
   "cell_type": "code",
   "execution_count": 9,
   "metadata": {},
   "outputs": [],
   "source": [
    "# Create our session (link) from Python to the DB\n",
    "session = Session(engine)"
   ]
  },
  {
   "cell_type": "markdown",
   "metadata": {},
   "source": [
    "# Exploratory Climate Analysis"
   ]
  },
  {
   "cell_type": "markdown",
   "metadata": {},
   "source": [
    "# Precipitation Analysis"
   ]
  },
  {
   "cell_type": "code",
   "execution_count": 11,
   "metadata": {},
   "outputs": [
    {
     "name": "stdout",
     "output_type": "stream",
     "text": [
      "2016-08-23\n"
     ]
    },
    {
     "data": {
      "image/png": "[encoded data removed]",
      "text/plain": [
       "<Figure size 432x288 with 1 Axes>"
      ]
     },
     "metadata": {
      "needs_background": "light"
     },
     "output_type": "display_data"
    }
   ],
   "source": [
    "# Design a query to retrieve the last 12 months of precipitation data and plot the results\n",
    "\n",
    "# Calculate the date 1 year ago from the last data point in the database\n",
    "lastday=session.query(measurement.date).order_by(measurement.date.desc()).first()\n",
    "lastyear=dt.date(2017,8,23)-dt.timedelta(days=365)\n",
    "print(lastyear)\n",
    "\n",
    "# Perform a query to retrieve the data and precipitation scores\n",
    "scores=session.query(measurement.date,measurement.prcp).filter(measurement.date>=lastyear).all()\n",
    "\n",
    "# Save the query results as a Pandas DataFrame and set the index to the date column\n",
    "df = pd.DataFrame(scores, columns=['Date', 'Precipitation'])\n",
    "df.set_index('Date', inplace=True)\n",
    "df.head(10)\n",
    "\n",
    "# Sort the dataframe by date\n",
    "new_df=df.sort_values(by=['Date'],ascending=True)\n",
    "\n",
    "# Use Pandas Plotting with Matplotlib to plot the data\n",
    "new_df.plot()\n",
    "plt.xlabel(\"Date\")\n",
    "plt.ylabel(\"Inches\")\n",
    "plt.title(\"Precipitation From 8/23/16 to 8/23/17)\")\n",
    "plt.xticks(rotation=90)\n",
    "plt.show()"
   ]
  },
  {
   "cell_type": "code",
   "execution_count": 112,
   "metadata": {},
   "outputs": [
    {
     "data": {
      "text/html": [
       "<div>\n",
       "<style scoped>\n",
       "    .dataframe tbody tr th:only-of-type {\n",
       "        vertical-align: middle;\n",
       "    }\n",
       "\n",
       "    .dataframe tbody tr th {\n",
       "        vertical-align: top;\n",
       "    }\n",
       "\n",
       "    .dataframe thead th {\n",
       "        text-align: right;\n",
       "    }\n",
       "</style>\n",
       "<table border=\"1\" class=\"dataframe\">\n",
       "  <thead>\n",
       "    <tr style=\"text-align: right;\">\n",
       "      <th></th>\n",
       "      <th>Precipitation</th>\n",
       "    </tr>\n",
       "  </thead>\n",
       "  <tbody>\n",
       "    <tr>\n",
       "      <td>count</td>\n",
       "      <td>2021.000000</td>\n",
       "    </tr>\n",
       "    <tr>\n",
       "      <td>mean</td>\n",
       "      <td>0.177279</td>\n",
       "    </tr>\n",
       "    <tr>\n",
       "      <td>std</td>\n",
       "      <td>0.461190</td>\n",
       "    </tr>\n",
       "    <tr>\n",
       "      <td>min</td>\n",
       "      <td>0.000000</td>\n",
       "    </tr>\n",
       "    <tr>\n",
       "      <td>25%</td>\n",
       "      <td>0.000000</td>\n",
       "    </tr>\n",
       "    <tr>\n",
       "      <td>50%</td>\n",
       "      <td>0.020000</td>\n",
       "    </tr>\n",
       "    <tr>\n",
       "      <td>75%</td>\n",
       "      <td>0.130000</td>\n",
       "    </tr>\n",
       "    <tr>\n",
       "      <td>max</td>\n",
       "      <td>6.700000</td>\n",
       "    </tr>\n",
       "  </tbody>\n",
       "</table>\n",
       "</div>"
      ],
      "text/plain": [
       "       Precipitation\n",
       "count    2021.000000\n",
       "mean        0.177279\n",
       "std         0.461190\n",
       "min         0.000000\n",
       "25%         0.000000\n",
       "50%         0.020000\n",
       "75%         0.130000\n",
       "max         6.700000"
      ]
     },
     "execution_count": 112,
     "metadata": {},
     "output_type": "execute_result"
    }
   ],
   "source": [
    "# Use Pandas to calcualte the summary statistics for the precipitation data\n",
    "new_df.describe()"
   ]
  },
  {
   "cell_type": "markdown",
   "metadata": {},
   "source": [
    "# Station Analysis"
   ]
  },
  {
   "cell_type": "code",
   "execution_count": 76,
   "metadata": {},
   "outputs": [
    {
     "name": "stdout",
     "output_type": "stream",
     "text": [
      "There are 9 stations\n"
     ]
    }
   ],
   "source": [
    "# Design a query to show how many stations are available in this dataset?\n",
    "num_station=session.query(station.station).group_by(station.station).count()\n",
    "print(f\"There are {num_station} stations\")"
   ]
  },
  {
   "cell_type": "code",
   "execution_count": 111,
   "metadata": {},
   "outputs": [
    {
     "name": "stdout",
     "output_type": "stream",
     "text": [
      "The most active station is USC00519281\n"
     ]
    }
   ],
   "source": [
    "# What are the most active stations? (i.e. what stations have the most rows)?\n",
    "# List the stations and the counts in descending order.\n",
    "station_active=session.query(measurement.station,func.count(measurement.tobs)).group_by(measurement.station).order_by(func.count(measurement.tobs).desc()).all()\n",
    "print(f\"The most active station is {station_active[0][0]}\")"
   ]
  },
  {
   "cell_type": "code",
   "execution_count": 95,
   "metadata": {},
   "outputs": [
    {
     "name": "stdout",
     "output_type": "stream",
     "text": [
      "[(54.0,)]\n",
      "[(85.0,)]\n",
      "[(71.66378066378067,)]\n"
     ]
    }
   ],
   "source": [
    "# Using the station id from the previous query, calculate the lowest temperature recorded, \n",
    "# highest temperature recorded, and average temperature of the most active station?\n",
    "low=session.query(func.min(measurement.tobs)).filter(measurement.station==station_active[0][0]).all()\n",
    "high=session.query(func.max(measurement.tobs)).filter(measurement.station==station_active[0][0]).all()\n",
    "average=session.query(func.avg(measurement.tobs)).filter(measurement.station==station_active[0][0]).all()\n",
    "print(low)\n",
    "print(high)\n",
    "print(average)"
   ]
  },
  {
   "cell_type": "code",
   "execution_count": 108,
   "metadata": {},
   "outputs": [
    {
     "data": {
      "text/plain": [
       "<function matplotlib.pyplot.show(*args, **kw)>"
      ]
     },
     "execution_count": 108,
     "metadata": {},
     "output_type": "execute_result"
    },
    {
     "data": {
      "image/png": "[encoded data removed]",
      "text/plain": [
       "<Figure size 432x288 with 1 Axes>"
      ]
     },
     "metadata": {
      "needs_background": "light"
     },
     "output_type": "display_data"
    }
   ],
   "source": [
    "# Choose the station with the highest number of temperature observations.\n",
    "# Query the last 12 months of temperature observation data for this station and plot the results as a histogram\n",
    "temp=session.query(measurement.tobs).filter(measurement.station==station_active[0][0]).filter(measurement.date>=lastyear).all()\n",
    "temp_df = pd.DataFrame(temp)\n",
    "temp_df.head(10)\n",
    "\n",
    "plt.hist(temp_df['tobs'],bins=12)\n",
    "plt.xlabel(\"Temperature\")\n",
    "plt.ylabel(\"Frequency\")\n",
    "plt.title(\"Temperature Observation Frequency For \"+ station_active[0][0])\n",
    "plt.show"
   ]
  },
  {
   "cell_type": "markdown",
   "metadata": {},
   "source": [
    "## Bonus Challenge Assignment"
   ]
  },
  {
   "cell_type": "markdown",
   "metadata": {},
   "source": [
    "# Temperature Analysis I"
   ]
  },
  {
   "cell_type": "code",
   "execution_count": 45,
   "metadata": {},
   "outputs": [
    {
     "data": {
      "text/plain": [
       "Ttest_indResult(statistic=-3.1690677204469506, pvalue=0.0015436447988673367)"
      ]
     },
     "execution_count": 45,
     "metadata": {},
     "output_type": "execute_result"
    }
   ],
   "source": [
    "june=\"06\"\n",
    "june_info=session.query(measurement.date,measurement.tobs).filter(func.strftime(\"%m\", measurement.date) == june).all()\n",
    "\n",
    "dec=\"12\"\n",
    "dec_info=session.query(measurement.date,measurement.tobs).filter(func.strftime(\"%m\", measurement.date) == dec).all()\n",
    "\n",
    "june_temp=[]\n",
    "for i in range(len(june_info)):\n",
    "    temp=june_info[i][1]\n",
    "    june_temp.append(temp)\n",
    "\n",
    "dec_temp=[]\n",
    "for j in range(len(dec_info)):\n",
    "    temp2=june_info[j][1]\n",
    "    dec_temp.append(temp2)    \n",
    "\n",
    "stats.ttest_ind(june_temp, dec_temp)"
   ]
  },
  {
   "cell_type": "markdown",
   "metadata": {},
   "source": [
    "The difference in means is statistically significant because pvalue is less than 0.05. I use paired test because we want to compare means of two different groups "
   ]
  },
  {
   "cell_type": "markdown",
   "metadata": {},
   "source": [
    "# Temperature Analysis II"
   ]
  },
  {
   "cell_type": "code",
   "execution_count": 114,
   "metadata": {},
   "outputs": [
    {
     "name": "stdout",
     "output_type": "stream",
     "text": [
      "[(62.0, 69.57142857142857, 74.0)]\n"
     ]
    }
   ],
   "source": [
    "# This function called `calc_temps` will accept start date and end date in the format '%Y-%m-%d' \n",
    "# and return the minimum, average, and maximum temperatures for that range of dates\n",
    "def calc_temps(start_date, end_date):\n",
    "    \"\"\"TMIN, TAVG, and TMAX for a list of dates.\n",
    "    \n",
    "    Args:\n",
    "        start_date (string): A date string in the format %Y-%m-%d\n",
    "        end_date (string): A date string in the format %Y-%m-%d\n",
    "        \n",
    "    Returns:\n",
    "        TMIN, TAVE, and TMAX\n",
    "    \"\"\"\n",
    "    \n",
    "    return session.query(func.min(measurement.tobs), func.avg(measurement.tobs), func.max(measurement.tobs)).\\\n",
    "        filter(measurement.date >= start_date).filter(measurement.date <= end_date).all()\n",
    "\n",
    "# function usage example\n",
    "print(calc_temps('2012-02-28', '2012-03-05'))"
   ]
  },
  {
   "cell_type": "code",
   "execution_count": 180,
   "metadata": {},
   "outputs": [
    {
     "name": "stdout",
     "output_type": "stream",
     "text": [
      "[(71.0, 77.1875, 82.0)]\n"
     ]
    }
   ],
   "source": [
    "# Use your previous function `calc_temps` to calculate the tmin, tavg, and tmax \n",
    "# for your trip using the previous year's data for those same dates.\n",
    "trip=calc_temps('2017-06-20', '2017-06-27')\n",
    "print(trip)"
   ]
  },
  {
   "cell_type": "code",
   "execution_count": 194,
   "metadata": {},
   "outputs": [
    {
     "data": {
      "image/png": "[encoded data removed]",
      "text/plain": [
       "<Figure size 432x288 with 1 Axes>"
      ]
     },
     "metadata": {
      "needs_background": "light"
     },
     "output_type": "display_data"
    }
   ],
   "source": [
    "# Plot the results from your previous query as a bar chart. \n",
    "# Use \"Trip Avg Temp\" as your Title\n",
    "# Use the average temperature for the y value\n",
    "# Use the peak-to-peak (tmax-tmin) value as the y error bar (yerr)\n",
    "tmin=trip[0][0]\n",
    "tmax=trip[0][2]\n",
    "\n",
    "'''fig1, ax1 = plt.subplots()\n",
    "ax1.set_title('Trip Avg Temp')\n",
    "ax1.set_xlabel('Trip')\n",
    "ax1.set_ylabel('Average Temperature')\n",
    "ax1.boxplot(trip)\n",
    "plt.show()'''\n",
    "\n",
    "fig2, ax2 = plt.subplots()\n",
    "plt.bar(1,trip[0][1],yerr=tmax-tmin)\n",
    "ax2.set_title('Trip Avg Temp')\n",
    "ax2.set_xlabel('Trip')\n",
    "ax2.set_ylabel('Temp (F)')\n",
    "plt.xlim(0,2)\n",
    "plt.ylim(0,100)\n",
    "plt.show()"
   ]
  },
  {
   "cell_type": "markdown",
   "metadata": {},
   "source": [
    "# Daily Rainfall Average"
   ]
  },
  {
   "cell_type": "code",
   "execution_count": 199,
   "metadata": {},
   "outputs": [
    {
     "data": {
      "text/html": [
       "<div>\n",
       "<style scoped>\n",
       "    .dataframe tbody tr th:only-of-type {\n",
       "        vertical-align: middle;\n",
       "    }\n",
       "\n",
       "    .dataframe tbody tr th {\n",
       "        vertical-align: top;\n",
       "    }\n",
       "\n",
       "    .dataframe thead th {\n",
       "        text-align: right;\n",
       "    }\n",
       "</style>\n",
       "<table border=\"1\" class=\"dataframe\">\n",
       "  <thead>\n",
       "    <tr style=\"text-align: right;\">\n",
       "      <th></th>\n",
       "      <th>station</th>\n",
       "      <th>name</th>\n",
       "      <th>prcp</th>\n",
       "      <th>latitude</th>\n",
       "      <th>longitude</th>\n",
       "      <th>elevation</th>\n",
       "    </tr>\n",
       "  </thead>\n",
       "  <tbody>\n",
       "    <tr>\n",
       "      <td>0</td>\n",
       "      <td>USC00516128</td>\n",
       "      <td>MANOA LYON ARBO 785.2, HI US</td>\n",
       "      <td>0.52</td>\n",
       "      <td>21.33310</td>\n",
       "      <td>-157.80250</td>\n",
       "      <td>152.4</td>\n",
       "    </tr>\n",
       "    <tr>\n",
       "      <td>1</td>\n",
       "      <td>USC00514830</td>\n",
       "      <td>KUALOA RANCH HEADQUARTERS 886.9, HI US</td>\n",
       "      <td>0.47</td>\n",
       "      <td>21.52130</td>\n",
       "      <td>-157.83740</td>\n",
       "      <td>7.0</td>\n",
       "    </tr>\n",
       "    <tr>\n",
       "      <td>2</td>\n",
       "      <td>USC00519281</td>\n",
       "      <td>WAIHEE 837.5, HI US</td>\n",
       "      <td>0.40</td>\n",
       "      <td>21.45167</td>\n",
       "      <td>-157.84889</td>\n",
       "      <td>32.9</td>\n",
       "    </tr>\n",
       "    <tr>\n",
       "      <td>3</td>\n",
       "      <td>USC00513117</td>\n",
       "      <td>KANEOHE 838.1, HI US</td>\n",
       "      <td>0.16</td>\n",
       "      <td>21.42340</td>\n",
       "      <td>-157.80150</td>\n",
       "      <td>14.6</td>\n",
       "    </tr>\n",
       "    <tr>\n",
       "      <td>4</td>\n",
       "      <td>USC00517948</td>\n",
       "      <td>PEARL CITY, HI US</td>\n",
       "      <td>0.10</td>\n",
       "      <td>21.39340</td>\n",
       "      <td>-157.97510</td>\n",
       "      <td>11.9</td>\n",
       "    </tr>\n",
       "  </tbody>\n",
       "</table>\n",
       "</div>"
      ],
      "text/plain": [
       "       station                                    name  prcp  latitude  \\\n",
       "0  USC00516128            MANOA LYON ARBO 785.2, HI US  0.52  21.33310   \n",
       "1  USC00514830  KUALOA RANCH HEADQUARTERS 886.9, HI US  0.47  21.52130   \n",
       "2  USC00519281                     WAIHEE 837.5, HI US  0.40  21.45167   \n",
       "3  USC00513117                    KANEOHE 838.1, HI US  0.16  21.42340   \n",
       "4  USC00517948                       PEARL CITY, HI US  0.10  21.39340   \n",
       "\n",
       "   longitude  elevation  \n",
       "0 -157.80250      152.4  \n",
       "1 -157.83740        7.0  \n",
       "2 -157.84889       32.9  \n",
       "3 -157.80150       14.6  \n",
       "4 -157.97510       11.9  "
      ]
     },
     "execution_count": 199,
     "metadata": {},
     "output_type": "execute_result"
    }
   ],
   "source": [
    "# Calculate the total amount of rainfall per weather station for your trip dates using the previous year's matching dates.\n",
    "# Sort this in descending order by precipitation amount and list the station, name, latitude, longitude, and elevation\n",
    "start=dt.date(2017,6,20)-dt.timedelta(365)\n",
    "end=dt.date(2017,6,27)-dt.timedelta(365)\n",
    "info=session.query(measurement.station,station.name,measurement.prcp,station.latitude,station.longitude,station.elevation).\\\n",
    "    filter(measurement.station==station.station).\\\n",
    "    filter(measurement.date>=start).filter(measurement.date<=end).\\\n",
    "    group_by(measurement.station).order_by(measurement.prcp.desc()).all()\n",
    "info2=session.query\n",
    "info_pd=pd.DataFrame(info)\n",
    "info_pd.head()"
   ]
  },
  {
   "cell_type": "code",
   "execution_count": 201,
   "metadata": {},
   "outputs": [
    {
     "data": {
      "text/plain": [
       "[(62.0, 69.15384615384616, 77.0)]"
      ]
     },
     "execution_count": 201,
     "metadata": {},
     "output_type": "execute_result"
    }
   ],
   "source": [
    "# Create a query that will calculate the daily normals \n",
    "# (i.e. the averages for tmin, tmax, and tavg for all historic data matching a specific month and day)\n",
    "\n",
    "def daily_normals(date):\n",
    "    \"\"\"Daily Normals.\n",
    "    \n",
    "    Args:\n",
    "        date (str): A date string in the format '%m-%d'\n",
    "        \n",
    "    Returns:\n",
    "        A list of tuples containing the daily normals, tmin, tavg, and tmax\n",
    "    \n",
    "    \"\"\"\n",
    "    \n",
    "    sel = [func.min(measurement.tobs), func.avg(measurement.tobs), func.max(measurement.tobs)]\n",
    "    return session.query(*sel).filter(func.strftime(\"%m-%d\", measurement.date) == date).all()\n",
    "    \n",
    "daily_normals(\"01-01\")"
   ]
  },
  {
   "cell_type": "code",
   "execution_count": 296,
   "metadata": {},
   "outputs": [
    {
     "name": "stdout",
     "output_type": "stream",
     "text": [
      "[[(68.0, 73.96491228070175, 85.0)], [(68.0, 74.75862068965517, 82.0)], [(69.0, 75.15789473684211, 81.0)], [(68.0, 74.54385964912281, 80.0)], [(68.0, 74.96428571428571, 84.0)], [(68.0, 74.10344827586206, 80.0)], [(67.0, 74.21428571428571, 82.0)], [(66.0, 75.01785714285714, 81.0)]]\n"
     ]
    }
   ],
   "source": [
    "# calculate the daily normals for your trip\n",
    "day1=daily_normals(\"06-20\")\n",
    "day2=daily_normals(\"06-21\")\n",
    "day3=daily_normals(\"06-22\")\n",
    "day4=daily_normals(\"06-23\")\n",
    "day5=daily_normals(\"06-24\")\n",
    "day6=daily_normals(\"06-25\")\n",
    "day7=daily_normals(\"06-26\")\n",
    "day8=daily_normals(\"06-27\")\n",
    "# push each tuple of calculations into a list called `normals`\n",
    "tobs=[day1,day2,day3,day4,day5,day6,day7,day8]\n",
    "\n",
    "# Set the start and end date of the trip\n",
    "start_date=\"06-20-2017\"\n",
    "end_date=\"06-27-2017\"\n",
    "\n",
    "# Use the start and end date to create a range of dates\n",
    "base=dt.date(2017,6,20)\n",
    "numdays=8\n",
    "date_list=[base+dt.timedelta(days=x)for x in range (numdays)]\n",
    "\n",
    "# Stip off the year and save a list of %m-%d strings\n",
    "\n",
    "new=[date.strftime(\"%m-%d\")for date in date_list]\n",
    "#print(new)\n",
    "#dt.datetime.strptime(date_list,'%Y-%m-%d').date()\n",
    "#new=dt.strptime(date_list,'%Y-%m-%d').strftime(\"%d\")\n",
    "#dt.date.date_list().strftime(\"%d\")\n",
    "\n",
    "# Loop through the list of %m-%d strings and calculate the normals for each date\n",
    "info=[daily_normals(date)for date in new]\n",
    "print(info)"
   ]
  },
  {
   "cell_type": "code",
   "execution_count": 297,
   "metadata": {},
   "outputs": [
    {
     "name": "stdout",
     "output_type": "stream",
     "text": [
      "             Min        Avg   Max\n",
      "Date                             \n",
      "2017-06-20  68.0  73.964912  85.0\n",
      "2017-06-21  68.0  74.758621  82.0\n",
      "2017-06-22  69.0  75.157895  81.0\n",
      "2017-06-23  68.0  74.543860  80.0\n",
      "2017-06-24  68.0  74.964286  84.0\n",
      "2017-06-25  68.0  74.103448  80.0\n",
      "2017-06-26  67.0  74.214286  82.0\n",
      "2017-06-27  66.0  75.017857  81.0\n"
     ]
    }
   ],
   "source": [
    "# Load the previous query results into a Pandas DataFrame and add the `trip_dates` range as the `date` index\n",
    "date=[\"2017-06-20\",\"2017-06-21\",\"2017-06-22\",\"2017-06-23\",\"2017-06-24\",\"2017-06-25\",\"2017-06-26\",\"2017-06-27\"]\n",
    "min_info=[info[i][0][0]for i in range(0,8)]\n",
    "#print(min_info)\n",
    "avg_info=[info[j][0][1]for j in range(0,8)]\n",
    "max_info=[info[k][0][2]for k in range(0,8)]\n",
    "df=pd.DataFrame({\"Date\":date,\"Min\":min_info,\"Avg\":avg_info,\"Max\":max_info})\n",
    "new_df=df.set_index(\"Date\")\n",
    "print(new_df)\n"
   ]
  },
  {
   "cell_type": "code",
   "execution_count": 299,
   "metadata": {},
   "outputs": [
    {
     "data": {
      "image/png": "[encoded data removed]",
      "text/plain": [
       "<Figure size 432x288 with 1 Axes>"
      ]
     },
     "metadata": {
      "needs_background": "light"
     },
     "output_type": "display_data"
    }
   ],
   "source": [
    "# Plot the daily normals as an area plot with `stacked=False`\n",
    "new_df.plot(kind='area',stacked=False)\n",
    "plt.xticks(rotation=45)\n",
    "plt.show()"
   ]
  }
 ],
 "metadata": {
  "kernel_info": {
   "name": "python3"
  },
  "kernelspec": {
   "display_name": "Python 3",
   "language": "python",
   "name": "python3"
  },
  "language_info": {
   "codemirror_mode": {
    "name": "ipython",
    "version": 3
   },
   "file_extension": ".py",
   "mimetype": "text/x-python",
   "name": "python",
   "nbconvert_exporter": "python",
   "pygments_lexer": "ipython3",
   "version": "3.7.4"
  },
  "nteract": {
   "version": "0.12.3"
  },
  "varInspector": {
   "cols": {
    "lenName": 16,
    "lenType": 16,
    "lenVar": 40
   },
   "kernels_config": {
    "python": {
     "delete_cmd_postfix": "",
     "delete_cmd_prefix": "del ",
     "library": "var_list.py",
     "varRefreshCmd": "print(var_dic_list())"
    },
    "r": {
     "delete_cmd_postfix": ") ",
     "delete_cmd_prefix": "rm(",
     "library": "var_list.r",
     "varRefreshCmd": "cat(var_dic_list()) "
    }
   },
   "types_to_exclude": [
    "module",
    "function",
    "builtin_function_or_method",
    "instance",
    "_Feature"
   ],
   "window_display": false
  }
 },
 "nbformat": 4,
 "nbformat_minor": 2
}
